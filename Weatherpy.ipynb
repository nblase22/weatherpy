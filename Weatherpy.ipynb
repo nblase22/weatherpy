{
 "cells": [
  {
   "cell_type": "code",
   "execution_count": 2,
   "metadata": {
    "collapsed": true
   },
   "outputs": [],
   "source": [
    "# Import Dependencies\n",
    "import json\n",
    "import seaborn as sns\n",
    "import requests as req\n",
    "import matplotlib.pyplot as plt\n",
    "import numpy as np\n",
    "import pandas as pd\n",
    "import random\n",
    "from citipy import citipy\n",
    "import time"
   ]
  },
  {
   "cell_type": "code",
   "execution_count": 3,
   "metadata": {
    "collapsed": true
   },
   "outputs": [],
   "source": [
    "# Save config information\n",
    "api_key = \"600074174b9afc5bc6d2270aa7f2edd3\"\n",
    "url = \"http://api.openweathermap.org/data/2.5/weather?\""
   ]
  },
  {
   "cell_type": "code",
   "execution_count": 6,
   "metadata": {},
   "outputs": [
    {
     "name": "stdout",
     "output_type": "stream",
     "text": [
      "How many cities would you like to sample? 5\n"
     ]
    },
    {
     "data": {
      "text/plain": [
       "['cape town', 'chokurdakh', 'port alfred', 'am timan', 'dunedin']"
      ]
     },
     "execution_count": 6,
     "metadata": {},
     "output_type": "execute_result"
    }
   ],
   "source": [
    "# Randomly select at least 500 unique cities based on latitude and longitude\n",
    "# latitude range from -90 to 90\n",
    "# longitude range from -180 to 180\n",
    "\n",
    "# look at cities.py in the activities\n",
    "\n",
    "# get the sample size and create blank lists for lat and lon\n",
    "sample_size = int(input(\"How many cities would you like to sample? \"))\n",
    "lat = []\n",
    "lon = []\n",
    "cities = []\n",
    "\n",
    "# fill the random lats and lons\n",
    "for i in range(0, sample_size):\n",
    "    lat.append(random.uniform(-90, 90))\n",
    "    lon.append(random.uniform(-180, 180))\n",
    "    \n",
    "for i in range(len(lat)):\n",
    "    cities.append(citipy.nearest_city(lat[i], lon[i]).city_name)\n",
    "\n"
   ]
  },
  {
   "cell_type": "code",
   "execution_count": 14,
   "metadata": {},
   "outputs": [
    {
     "name": "stdout",
     "output_type": "stream",
     "text": [
      "City Number: 1 City Name: cape town URL: http://api.openweathermap.org/data/2.5/weather?appid=600074174b9afc5bc6d2270aa7f2edd3&q=cape town&units=imperial\n",
      "City Number: 2 City Name: chokurdakh URL: http://api.openweathermap.org/data/2.5/weather?appid=600074174b9afc5bc6d2270aa7f2edd3&q=chokurdakh&units=imperial\n",
      "City Number: 3 City Name: port alfred URL: http://api.openweathermap.org/data/2.5/weather?appid=600074174b9afc5bc6d2270aa7f2edd3&q=port alfred&units=imperial\n",
      "City Number: 4 City Name: am timan URL: http://api.openweathermap.org/data/2.5/weather?appid=600074174b9afc5bc6d2270aa7f2edd3&q=am timan&units=imperial\n",
      "City Number: 5 City Name: dunedin URL: http://api.openweathermap.org/data/2.5/weather?appid=600074174b9afc5bc6d2270aa7f2edd3&q=dunedin&units=imperial\n"
     ]
    }
   ],
   "source": [
    "# Perform a weather check on cities using API calls\n",
    "# Include a print log with the city number, city name, and URL\n",
    "weather_data = []\n",
    "count = 1\n",
    "for city in cities:\n",
    "    # Build query URL\n",
    "    query_url = url + \"appid=\" + api_key + \"&q=\" + city + \"&units=imperial\"\n",
    "\n",
    "    # Get weather data\n",
    "    weather_response = req.get(query_url).json()\n",
    "    weather_data.append(weather_response)\n",
    "\n",
    "    print(\"City Number: \" + str(count) + \" City Name: \" + city + \" URL: \" + query_url)\n",
    "    count += 1\n",
    "    sleep = 1\n",
    "    \n",
    "# Extract interesting data from responses\n",
    "lat_data = [data.get(\"coord\").get(\"lat\") for data in weather_data]\n",
    "temp_data = [data.get(\"main\").get(\"temp\") for data in weather_data]\n",
    "hum_data = [data.get(\"main\").get(\"humidity\") for data in weather_data]\n",
    "cld_data = [data.get(\"clouds\").get(\"all\") for data in weather_data]\n",
    "wind_data = [data.get(\"wind\").get(\"speed\") for data in weather_data]"
   ]
  },
  {
   "cell_type": "code",
   "execution_count": 15,
   "metadata": {},
   "outputs": [
    {
     "data": {
      "text/html": [
       "<div>\n",
       "<style>\n",
       "    .dataframe thead tr:only-child th {\n",
       "        text-align: right;\n",
       "    }\n",
       "\n",
       "    .dataframe thead th {\n",
       "        text-align: left;\n",
       "    }\n",
       "\n",
       "    .dataframe tbody tr th {\n",
       "        vertical-align: top;\n",
       "    }\n",
       "</style>\n",
       "<table border=\"1\" class=\"dataframe\">\n",
       "  <thead>\n",
       "    <tr style=\"text-align: right;\">\n",
       "      <th></th>\n",
       "      <th>lat</th>\n",
       "      <th>temp</th>\n",
       "    </tr>\n",
       "  </thead>\n",
       "  <tbody>\n",
       "    <tr>\n",
       "      <th>0</th>\n",
       "      <td>-33.93</td>\n",
       "      <td>66.20</td>\n",
       "    </tr>\n",
       "    <tr>\n",
       "      <th>1</th>\n",
       "      <td>70.63</td>\n",
       "      <td>3.80</td>\n",
       "    </tr>\n",
       "    <tr>\n",
       "      <th>2</th>\n",
       "      <td>-33.59</td>\n",
       "      <td>69.05</td>\n",
       "    </tr>\n",
       "    <tr>\n",
       "      <th>3</th>\n",
       "      <td>11.03</td>\n",
       "      <td>96.18</td>\n",
       "    </tr>\n",
       "    <tr>\n",
       "      <th>4</th>\n",
       "      <td>-45.87</td>\n",
       "      <td>45.51</td>\n",
       "    </tr>\n",
       "  </tbody>\n",
       "</table>\n",
       "</div>"
      ],
      "text/plain": [
       "     lat   temp\n",
       "0 -33.93  66.20\n",
       "1  70.63   3.80\n",
       "2 -33.59  69.05\n",
       "3  11.03  96.18\n",
       "4 -45.87  45.51"
      ]
     },
     "execution_count": 15,
     "metadata": {},
     "output_type": "execute_result"
    }
   ],
   "source": [
    "# Build Scatter Plot of Temp (F) vs. Latitude\n",
    "temp_df = pd.DataFrame({\"lat\": lat_data, \"temp\": temp_data})\n",
    "temp_df\n",
    "# save png image of the chart"
   ]
  },
  {
   "cell_type": "code",
   "execution_count": 16,
   "metadata": {},
   "outputs": [
    {
     "data": {
      "text/html": [
       "<div>\n",
       "<style>\n",
       "    .dataframe thead tr:only-child th {\n",
       "        text-align: right;\n",
       "    }\n",
       "\n",
       "    .dataframe thead th {\n",
       "        text-align: left;\n",
       "    }\n",
       "\n",
       "    .dataframe tbody tr th {\n",
       "        vertical-align: top;\n",
       "    }\n",
       "</style>\n",
       "<table border=\"1\" class=\"dataframe\">\n",
       "  <thead>\n",
       "    <tr style=\"text-align: right;\">\n",
       "      <th></th>\n",
       "      <th>humidity</th>\n",
       "      <th>lat</th>\n",
       "    </tr>\n",
       "  </thead>\n",
       "  <tbody>\n",
       "    <tr>\n",
       "      <th>0</th>\n",
       "      <td>59</td>\n",
       "      <td>-33.93</td>\n",
       "    </tr>\n",
       "    <tr>\n",
       "      <th>1</th>\n",
       "      <td>74</td>\n",
       "      <td>70.63</td>\n",
       "    </tr>\n",
       "    <tr>\n",
       "      <th>2</th>\n",
       "      <td>71</td>\n",
       "      <td>-33.59</td>\n",
       "    </tr>\n",
       "    <tr>\n",
       "      <th>3</th>\n",
       "      <td>34</td>\n",
       "      <td>11.03</td>\n",
       "    </tr>\n",
       "    <tr>\n",
       "      <th>4</th>\n",
       "      <td>100</td>\n",
       "      <td>-45.87</td>\n",
       "    </tr>\n",
       "  </tbody>\n",
       "</table>\n",
       "</div>"
      ],
      "text/plain": [
       "   humidity    lat\n",
       "0        59 -33.93\n",
       "1        74  70.63\n",
       "2        71 -33.59\n",
       "3        34  11.03\n",
       "4       100 -45.87"
      ]
     },
     "execution_count": 16,
     "metadata": {},
     "output_type": "execute_result"
    }
   ],
   "source": [
    "# Build Scatter Plot of Humidity (%) vs. Latitude\n",
    "hum_df = pd.DataFrame({\"lat\": lat_data, \"humidity\": hum_data})\n",
    "hum_df\n",
    "# save png image of the chart"
   ]
  },
  {
   "cell_type": "code",
   "execution_count": 17,
   "metadata": {},
   "outputs": [
    {
     "data": {
      "text/html": [
       "<div>\n",
       "<style>\n",
       "    .dataframe thead tr:only-child th {\n",
       "        text-align: right;\n",
       "    }\n",
       "\n",
       "    .dataframe thead th {\n",
       "        text-align: left;\n",
       "    }\n",
       "\n",
       "    .dataframe tbody tr th {\n",
       "        vertical-align: top;\n",
       "    }\n",
       "</style>\n",
       "<table border=\"1\" class=\"dataframe\">\n",
       "  <thead>\n",
       "    <tr style=\"text-align: right;\">\n",
       "      <th></th>\n",
       "      <th>cloudiness</th>\n",
       "      <th>lat</th>\n",
       "    </tr>\n",
       "  </thead>\n",
       "  <tbody>\n",
       "    <tr>\n",
       "      <th>0</th>\n",
       "      <td>0</td>\n",
       "      <td>-33.93</td>\n",
       "    </tr>\n",
       "    <tr>\n",
       "      <th>1</th>\n",
       "      <td>44</td>\n",
       "      <td>70.63</td>\n",
       "    </tr>\n",
       "    <tr>\n",
       "      <th>2</th>\n",
       "      <td>0</td>\n",
       "      <td>-33.59</td>\n",
       "    </tr>\n",
       "    <tr>\n",
       "      <th>3</th>\n",
       "      <td>0</td>\n",
       "      <td>11.03</td>\n",
       "    </tr>\n",
       "    <tr>\n",
       "      <th>4</th>\n",
       "      <td>92</td>\n",
       "      <td>-45.87</td>\n",
       "    </tr>\n",
       "  </tbody>\n",
       "</table>\n",
       "</div>"
      ],
      "text/plain": [
       "   cloudiness    lat\n",
       "0           0 -33.93\n",
       "1          44  70.63\n",
       "2           0 -33.59\n",
       "3           0  11.03\n",
       "4          92 -45.87"
      ]
     },
     "execution_count": 17,
     "metadata": {},
     "output_type": "execute_result"
    }
   ],
   "source": [
    "# Build Scatter Plot of Cloudiness (%) vs. Latitude\n",
    "cld_df = pd.DataFrame({\"lat\": lat_data, \"cloudiness\": cld_data})\n",
    "cld_df\n",
    "# save png image of the chart"
   ]
  },
  {
   "cell_type": "code",
   "execution_count": 19,
   "metadata": {},
   "outputs": [
    {
     "data": {
      "text/html": [
       "<div>\n",
       "<style>\n",
       "    .dataframe thead tr:only-child th {\n",
       "        text-align: right;\n",
       "    }\n",
       "\n",
       "    .dataframe thead th {\n",
       "        text-align: left;\n",
       "    }\n",
       "\n",
       "    .dataframe tbody tr th {\n",
       "        vertical-align: top;\n",
       "    }\n",
       "</style>\n",
       "<table border=\"1\" class=\"dataframe\">\n",
       "  <thead>\n",
       "    <tr style=\"text-align: right;\">\n",
       "      <th></th>\n",
       "      <th>lat</th>\n",
       "      <th>wind</th>\n",
       "    </tr>\n",
       "  </thead>\n",
       "  <tbody>\n",
       "    <tr>\n",
       "      <th>0</th>\n",
       "      <td>-33.93</td>\n",
       "      <td>16.11</td>\n",
       "    </tr>\n",
       "    <tr>\n",
       "      <th>1</th>\n",
       "      <td>70.63</td>\n",
       "      <td>9.78</td>\n",
       "    </tr>\n",
       "    <tr>\n",
       "      <th>2</th>\n",
       "      <td>-33.59</td>\n",
       "      <td>8.88</td>\n",
       "    </tr>\n",
       "    <tr>\n",
       "      <th>3</th>\n",
       "      <td>11.03</td>\n",
       "      <td>4.52</td>\n",
       "    </tr>\n",
       "    <tr>\n",
       "      <th>4</th>\n",
       "      <td>-45.87</td>\n",
       "      <td>5.97</td>\n",
       "    </tr>\n",
       "  </tbody>\n",
       "</table>\n",
       "</div>"
      ],
      "text/plain": [
       "     lat   wind\n",
       "0 -33.93  16.11\n",
       "1  70.63   9.78\n",
       "2 -33.59   8.88\n",
       "3  11.03   4.52\n",
       "4 -45.87   5.97"
      ]
     },
     "execution_count": 19,
     "metadata": {},
     "output_type": "execute_result"
    }
   ],
   "source": [
    "# Build Scatter Plot of Wind Speed (mph) vs. Latitude\n",
    "wind_df = pd.DataFrame({\"lat\": lat_data, \"wind\": wind_data})\n",
    "wind_df\n",
    "# save png image of the chart"
   ]
  },
  {
   "cell_type": "code",
   "execution_count": null,
   "metadata": {
    "collapsed": true
   },
   "outputs": [],
   "source": [
    "# Save CSV of all Data received\n",
    "# save png image of the chart"
   ]
  }
 ],
 "metadata": {
  "kernelspec": {
   "display_name": "Python [conda env:PythonData]",
   "language": "python",
   "name": "conda-env-PythonData-py"
  },
  "language_info": {
   "codemirror_mode": {
    "name": "ipython",
    "version": 3
   },
   "file_extension": ".py",
   "mimetype": "text/x-python",
   "name": "python",
   "nbconvert_exporter": "python",
   "pygments_lexer": "ipython3",
   "version": "3.6.1"
  }
 },
 "nbformat": 4,
 "nbformat_minor": 2
}
