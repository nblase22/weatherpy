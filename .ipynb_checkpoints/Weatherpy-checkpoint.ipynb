{
 "cells": [
  {
   "cell_type": "code",
   "execution_count": 32,
   "metadata": {
    "collapsed": true
   },
   "outputs": [],
   "source": [
    "# Import Dependencies\n",
    "import json\n",
    "import seaborn as sns\n",
    "import requests as req\n",
    "import matplotlib.pyplot as plt\n",
    "import numpy as np\n",
    "import pandas as pd\n",
    "import random\n",
    "from citipy import citipy"
   ]
  },
  {
   "cell_type": "code",
   "execution_count": 33,
   "metadata": {
    "collapsed": true
   },
   "outputs": [],
   "source": [
    "# Save config information\n",
    "api_key = \"600074174b9afc5bc6d2270aa7f2edd3\"\n",
    "url = \"http://api.openweathermap.org/data/2.5/weather?\""
   ]
  },
  {
   "cell_type": "code",
   "execution_count": 35,
   "metadata": {},
   "outputs": [
    {
     "name": "stdout",
     "output_type": "stream",
     "text": [
      "How many cities would you like to sample? 5\n"
     ]
    },
    {
     "data": {
      "text/plain": [
       "[147.76539464663983,\n",
       " -18.67803512473361,\n",
       " -131.16372773855608,\n",
       " 27.87545847162403,\n",
       " 28.080441925493943]"
      ]
     },
     "execution_count": 35,
     "metadata": {},
     "output_type": "execute_result"
    }
   ],
   "source": [
    "# Randomly select at least 500 unique cities based on latitude and longitude\n",
    "# latitude range from -90 to 90\n",
    "# longitude range from -180 to 180\n",
    "\n",
    "# look at cities.py in the activities\n",
    "\n",
    "# get the sample size and create blank lists for lat and lon\n",
    "sample_size = int(input(\"How many cities would you like to sample? \"))\n",
    "lat = []\n",
    "lon = []\n",
    "\n",
    "# fill the random lats and lons\n",
    "for i in range(0, sample_size):\n",
    "    lat.append(random.uniform(-90, 90))\n",
    "    lon.append(random.uniform(-180, 180))"
   ]
  },
  {
   "cell_type": "code",
   "execution_count": 22,
   "metadata": {},
   "outputs": [
    {
     "data": {
      "text/plain": [
       "{'base': 'stations',\n",
       " 'clouds': {'all': 20},\n",
       " 'cod': 200,\n",
       " 'coord': {'lat': -34.6, 'lon': -58.38},\n",
       " 'dt': 1508590800,\n",
       " 'id': 6693229,\n",
       " 'main': {'humidity': 62,\n",
       "  'pressure': 1016,\n",
       "  'temp': 287.91,\n",
       "  'temp_max': 288.15,\n",
       "  'temp_min': 287.15},\n",
       " 'name': 'San Nicolas',\n",
       " 'sys': {'country': 'AR',\n",
       "  'id': 4685,\n",
       "  'message': 0.1545,\n",
       "  'sunrise': 1508576578,\n",
       "  'sunset': 1508624012,\n",
       "  'type': 1},\n",
       " 'visibility': 10000,\n",
       " 'weather': [{'description': 'few clouds',\n",
       "   'icon': '02d',\n",
       "   'id': 801,\n",
       "   'main': 'Clouds'}],\n",
       " 'wind': {'deg': 200, 'gust': 10.8, 'speed': 4.6}}"
      ]
     },
     "execution_count": 22,
     "metadata": {},
     "output_type": "execute_result"
    }
   ],
   "source": [
    "# Perform a weather check on cities using API calls\n",
    "# Include a print log with the city number, city name, and URL\n",
    "data_dict = {}\n",
    "for j in range(0, sample_size)\n",
    "    # Build query URL\n",
    "    query_url = url + \"appid=\" + api_key + \"&lat=\" + str(lat) + \"&lon=\" + str(lon) + \"&units=iperial\"\n",
    "\n",
    "    # Get weather data\n",
    "    weather_response = req.get(query_url)\n",
    "    weather_json = weather_response.json()\n",
    "\n",
    "weather_json"
   ]
  },
  {
   "cell_type": "code",
   "execution_count": 8,
   "metadata": {
    "collapsed": true
   },
   "outputs": [],
   "source": [
    "# Build Scatter Plot of Temp (F) vs. Latitude\n",
    "# save png image of the chart"
   ]
  },
  {
   "cell_type": "code",
   "execution_count": 9,
   "metadata": {
    "collapsed": true
   },
   "outputs": [],
   "source": [
    "# Build Scatter Plot of Humidity (%) vs. Latitude\n",
    "# save png image of the chart"
   ]
  },
  {
   "cell_type": "code",
   "execution_count": 10,
   "metadata": {
    "collapsed": true
   },
   "outputs": [],
   "source": [
    "# Build Scatter Plot of Cloudiness (%) vs. Latitude\n",
    "# save png image of the chart"
   ]
  },
  {
   "cell_type": "code",
   "execution_count": 11,
   "metadata": {
    "collapsed": true
   },
   "outputs": [],
   "source": [
    "# Build Scatter Plot of Wind Speed (mph) vs. Latitude\n",
    "# save png image of the chart"
   ]
  },
  {
   "cell_type": "code",
   "execution_count": null,
   "metadata": {
    "collapsed": true
   },
   "outputs": [],
   "source": [
    "# Save CSV of all Data received\n",
    "# save png image of the chart"
   ]
  }
 ],
 "metadata": {
  "kernelspec": {
   "display_name": "Python [conda env:PythonData]",
   "language": "python",
   "name": "conda-env-PythonData-py"
  },
  "language_info": {
   "codemirror_mode": {
    "name": "ipython",
    "version": 3
   },
   "file_extension": ".py",
   "mimetype": "text/x-python",
   "name": "python",
   "nbconvert_exporter": "python",
   "pygments_lexer": "ipython3",
   "version": "3.6.1"
  }
 },
 "nbformat": 4,
 "nbformat_minor": 2
}
